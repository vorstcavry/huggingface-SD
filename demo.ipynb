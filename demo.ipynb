{
  "cells": [
    {
      "cell_type": "markdown",
      "metadata": {
        "id": "view-in-github",
        "colab_type": "text"
      },
      "source": [
        "<a href=\"https://colab.research.google.com/github/vorstcavry/huggingface-Stable-Diffusion/blob/https%2Fgithub.com%2Fvorstcavry/demo.ipynb\" target=\"_parent\"><img src=\"https://colab.research.google.com/assets/colab-badge.svg\" alt=\"Open In Colab\"/></a>"
      ]
    },
    {
      "cell_type": "code",
      "execution_count": null,
      "metadata": {
        "id": "PeEyOhUDHhzF"
      },
      "outputs": [],
      "source": [
        "import os\n",
        "import subprocess\n",
        "\n",
        "ROOT_DIR = \"/content\"\n",
        "REPO_URL = \"https://huggingface.co/spaces/Linaqruf/animagine-xl\"\n",
        "REPO_DIR = os.path.join(ROOT_DIR, \"animagine-xl-gui\")\n",
        "\n",
        "os.environ[\"HF_TOKEN\"] = \"\"\n",
        "os.environ[\"ENABLE_REFINER_PROMPT\"] = \"1\"\n",
        "\n",
        "def clone(url, dir, branch=None):\n",
        "    subprocess.run([\"git\", \"clone\", url, dir], check=True)\n",
        "    if branch:\n",
        "        subprocess.run([\"git\", \"checkout\", branch], cwd=dir, check=True)\n",
        "\n",
        "def install_deps(dir):\n",
        "    subprocess.run([\"pip\", \"install\", \"-r\", \"requirements.txt\"], cwd=dir, check=True)\n",
        "\n",
        "def main():\n",
        "    if not os.path.exists(REPO_DIR):\n",
        "        print(f\"Cloning Repository to {REPO_DIR}\")\n",
        "        clone(REPO_URL, REPO_DIR)\n",
        "        print(f\"Installing required python libraries\")\n",
        "        install_deps(REPO_DIR)\n",
        "        print(\"Done!\")\n",
        "\n",
        "    os.chdir(REPO_DIR)\n",
        "    !python app.py\n",
        "\n",
        "if __name__ == \"__main__\":\n",
        "    main()"
      ]
    }
  ],
  "metadata": {
    "accelerator": "GPU",
    "colab": {
      "machine_shape": "hm",
      "provenance": [],
      "gpuType": "A100",
      "include_colab_link": true
    },
    "kernelspec": {
      "display_name": "Python 3",
      "name": "python3"
    },
    "language_info": {
      "name": "python"
    }
  },
  "nbformat": 4,
  "nbformat_minor": 0
}